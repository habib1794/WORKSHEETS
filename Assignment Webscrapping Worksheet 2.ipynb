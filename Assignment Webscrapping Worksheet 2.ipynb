{
 "cells": [
  {
   "cell_type": "code",
   "execution_count": 1,
   "metadata": {},
   "outputs": [],
   "source": [
    "from selenium import webdriver\n",
    "import os"
   ]
  },
  {
   "cell_type": "code",
   "execution_count": 2,
   "metadata": {},
   "outputs": [],
   "source": [
    "driver=webdriver.Chrome(executable_path='chromedriver.exe')"
   ]
  },
  {
   "cell_type": "code",
   "execution_count": 3,
   "metadata": {},
   "outputs": [],
   "source": [
    "my_page=driver.get('https://www.flipkart.com/search?q=Rayban%20sunglasses&otracker=search&otracker1=search&marketplace=FLIPKART&as-show=on&as=off')"
   ]
  },
  {
   "cell_type": "code",
   "execution_count": 4,
   "metadata": {},
   "outputs": [],
   "source": [
    "def make_directory(dirname):\n",
    "    current_path=os.getcwd()\n",
    "    path=os.path.join(current_path,dirname)\n",
    "    if not os.path.exists(path):\n",
    "        os.makedirs(path)"
   ]
  },
  {
   "cell_type": "code",
   "execution_count": 5,
   "metadata": {},
   "outputs": [],
   "source": [
    "make_directory('Project3/Rayban Sunglasses')"
   ]
  },
  {
   "cell_type": "code",
   "execution_count": 6,
   "metadata": {},
   "outputs": [
    {
     "name": "stdout",
     "output_type": "stream",
     "text": [
      "<selenium.webdriver.remote.webelement.WebElement (session=\"da3464c35f901cc8ce60e71bf6c20a48\", element=\"f0672ffc-178c-4a6f-ae55-e7cd485c12d0\")>\n"
     ]
    }
   ],
   "source": [
    "images=driver.find_elements_by_xpath(\"//img[@class='_3togXc']\")\n",
    "print(images[0])"
   ]
  },
  {
   "cell_type": "code",
   "execution_count": 7,
   "metadata": {},
   "outputs": [],
   "source": [
    "urls=[]\n",
    "i=0\n",
    "for image in images:\n",
    "    if i<10:\n",
    "        source=image.get_attribute('src')\n",
    "        urls.append(source)\n",
    "        i=i+1\n",
    "    else:\n",
    "        break\n"
   ]
  },
  {
   "cell_type": "code",
   "execution_count": 8,
   "metadata": {},
   "outputs": [],
   "source": [
    "import shutil\n",
    "import requests"
   ]
  },
  {
   "cell_type": "code",
   "execution_count": 9,
   "metadata": {},
   "outputs": [
    {
     "name": "stdout",
     "output_type": "stream",
     "text": [
      "Downloading 1 of 10\n",
      "Downloading 2 of 10\n",
      "Downloading 3 of 10\n",
      "Downloading 4 of 10\n",
      "Downloading 5 of 10\n",
      "Downloading 6 of 10\n",
      "Downloading 7 of 10\n",
      "Downloading 8 of 10\n",
      "Downloading 9 of 10\n",
      "Downloading 10 of 10\n"
     ]
    }
   ],
   "source": [
    "for index,link in enumerate(urls):\n",
    "    print(\"Downloading {0} of {1}\".format(index+1,len(urls)))\n",
    "    response=requests.get(link)\n",
    "    with open('Project3/Rayban Sunglasses/Rayban.{0}.jpeg'.format(index+1),\"wb\") as file:\n",
    "        file.write(response.content)"
   ]
  },
  {
   "cell_type": "code",
   "execution_count": 10,
   "metadata": {},
   "outputs": [],
   "source": [
    "my_page=driver.get('https://www.amazon.in/s?k=mouses&page=2&qid=1601151635&ref=sr_pg_2')"
   ]
  },
  {
   "cell_type": "code",
   "execution_count": null,
   "metadata": {},
   "outputs": [],
   "source": []
  }
 ],
 "metadata": {
  "kernelspec": {
   "display_name": "myenv",
   "language": "python",
   "name": "myenv"
  },
  "language_info": {
   "codemirror_mode": {
    "name": "ipython",
    "version": 3
   },
   "file_extension": ".py",
   "mimetype": "text/x-python",
   "name": "python",
   "nbconvert_exporter": "python",
   "pygments_lexer": "ipython3",
   "version": "3.7.4"
  }
 },
 "nbformat": 4,
 "nbformat_minor": 2
}
