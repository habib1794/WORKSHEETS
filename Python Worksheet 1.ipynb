{
 "cells": [
  {
   "cell_type": "markdown",
   "metadata": {},
   "source": [
    "Q11:) Write a python program to find the factorial of a number\n",
    "    \n",
    "num=int(input('Enter the Number'))\n",
    "fact=1\n",
    "for i in range(1,num+1):\n",
    "    \n",
    "    fact=fact*i\n",
    "print('The Factorial of the number is :',fact)"
   ]
  },
  {
   "cell_type": "markdown",
   "metadata": {},
   "source": [
    "Q12:) Write a python program to find whether a number is prime or composite.\n",
    "\n",
    "    \n",
    "n=int(input('Enter the number'))\n",
    "k=0\n",
    "for i in range(2,n//2+1):\n",
    "    if(n%i==0):\n",
    "        k=k+1\n",
    "    if(k<0):\n",
    "        print('Number is prime')\n",
    "    else:\n",
    "        print('Number is not prime')"
   ]
  },
  {
   "cell_type": "markdown",
   "metadata": {},
   "source": [
    "Q13:) Write a python program to check whether a given string is palindrome or not\n",
    "    \n",
    "n=int(input('Enter the number'))\n",
    "sum=0\n",
    "temp=n\n",
    "while(n>0):\n",
    "    m=n%10\n",
    "    sum=sum*10+ m\n",
    "    n=n//10\n",
    "    \n",
    "if(sum==temp):\n",
    "    print(\"The number is Palindrome number\")\n",
    "else:\n",
    "    print(\"The number is not Palindrome number\")"
   ]
  },
  {
   "cell_type": "markdown",
   "metadata": {},
   "source": [
    "Q14:)Write a Python program to get the third side of right-angled triangle from two given sides.\n",
    "    \n",
    "a=int(input('Enter the first side'))\n",
    "b=int(input('Enter the second side'))\n",
    "\n",
    "c=((a**2+b**2)**0.5)\n",
    "\n",
    "print('The third side of the Triangle is :',c)"
   ]
  },
  {
   "cell_type": "markdown",
   "metadata": {},
   "source": [
    "Q15:) Write a python program to print the frequency of each of the characters present in a given string.\n",
    "    \n",
    "string = \"Honesty is the best Policy\"\n",
    "\n",
    "string=string.lower()\n",
    "\n",
    "all_freq = {} \n",
    "  \n",
    "for i in string: \n",
    "    if i in all_freq: \n",
    "        all_freq[i] += 1\n",
    "    else: \n",
    "        all_freq[i] = 1\n",
    "print(all_freq)"
   ]
  },
  {
   "cell_type": "code",
   "execution_count": null,
   "metadata": {},
   "outputs": [],
   "source": []
  }
 ],
 "metadata": {
  "kernelspec": {
   "display_name": "Python 3",
   "language": "python",
   "name": "python3"
  },
  "language_info": {
   "codemirror_mode": {
    "name": "ipython",
    "version": 3
   },
   "file_extension": ".py",
   "mimetype": "text/x-python",
   "name": "python",
   "nbconvert_exporter": "python",
   "pygments_lexer": "ipython3",
   "version": "3.7.4"
  }
 },
 "nbformat": 4,
 "nbformat_minor": 2
}
