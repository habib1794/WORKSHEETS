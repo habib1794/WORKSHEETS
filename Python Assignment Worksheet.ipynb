{
 "cells": [
  {
   "cell_type": "markdown",
   "metadata": {},
   "source": [
    "Q14:) Write a python program to solve a quadratic equation of the form 𝑎𝑥\n",
    "2 + 𝑏𝑥 + 𝑐 = 0. Where a, b and c are to\n",
    "be taken by user input. Handle the erroneous input, such as ‘a’ should not be equal to 0."
   ]
  },
  {
   "cell_type": "code",
   "execution_count": 1,
   "metadata": {},
   "outputs": [],
   "source": [
    "def quadratic(x):\n",
    "    a=int(input('Enter the value of a: '))\n",
    "    b=int(input('Enter the value of b: '))\n",
    "    c=int(input('Enter the value of c: '))\n",
    "    if a!=0:\n",
    "        result= a*x**2+b*x+c\n",
    "        print(\"The result of the euation is\",result)\n",
    "    else:\n",
    "        print(\"The value of a should not be zero\")\n"
   ]
  },
  {
   "cell_type": "code",
   "execution_count": 2,
   "metadata": {},
   "outputs": [
    {
     "name": "stdout",
     "output_type": "stream",
     "text": [
      "Enter the value of a: 2\n",
      "Enter the value of b: 3\n",
      "Enter the value of c: 4\n",
      "The result of the euation is 31\n"
     ]
    }
   ],
   "source": [
    "quadratic(3)"
   ]
  },
  {
   "cell_type": "markdown",
   "metadata": {},
   "source": [
    "Q15:) Write a python program to find the sum of first ‘n’ natural numbers without using any loop. Ask user to input\n",
    "the value of ‘n’."
   ]
  },
  {
   "cell_type": "code",
   "execution_count": 3,
   "metadata": {},
   "outputs": [
    {
     "name": "stdout",
     "output_type": "stream",
     "text": [
      "Enter the value of n4\n",
      "The sum of natural number is:  10.0\n"
     ]
    }
   ],
   "source": [
    "n=int(input('Enter the value of n'))\n",
    "nat=n*(n+1)/2\n",
    "print('The sum of natural number is: ',nat)"
   ]
  },
  {
   "cell_type": "code",
   "execution_count": null,
   "metadata": {},
   "outputs": [],
   "source": []
  }
 ],
 "metadata": {
  "kernelspec": {
   "display_name": "Python 3",
   "language": "python",
   "name": "python3"
  },
  "language_info": {
   "codemirror_mode": {
    "name": "ipython",
    "version": 3
   },
   "file_extension": ".py",
   "mimetype": "text/x-python",
   "name": "python",
   "nbconvert_exporter": "python",
   "pygments_lexer": "ipython3",
   "version": "3.7.4"
  }
 },
 "nbformat": 4,
 "nbformat_minor": 2
}
